{
 "cells": [
  {
   "cell_type": "code",
   "execution_count": null,
   "metadata": {},
   "outputs": [],
   "source": [
    "total_df[total_df['MS'] == 'CY'].head()\n",
    "\n",
    "total_df.groupby(['MS','Mh']).sum()\n",
    "\n",
    "df.name.unique()\n",
    "\n",
    "df2=df.groupby(['col1','col2','col3'], as_index=False).agg({'col4':'mean', 'col5':','.join})\n",
    "print (df2)\n",
    "\n",
    "\n",
    "grouped_multiple = df.groupby(['Team', 'Pos']).agg({'Age': ['mean', 'min', 'max']})\n",
    "grouped_multiple.columns = ['age_mean', 'age_min', 'age_max']\n",
    "grouped_multiple = grouped_multiple.reset_index()\n",
    "print(grouped_multiple)"
   ]
  },
  {
   "cell_type": "code",
   "execution_count": null,
   "metadata": {},
   "outputs": [],
   "source": [
    "#count_r\n",
    "AT = count_r[count_r['MS'] == 'AT']\n",
    "#print(AT)\n",
    "total = AT['r'].sum()\n",
    "AT_df = AT.groupby(['MS','Mh'])['r'].sum().reset_index()\n",
    "\n",
    "AT_df['Total_r'] = total\n",
    "\n",
    "#Find the proportion of autos by brand in that specific \n",
    "AT_df['proportion_r'] = AT_df['r'] / AT_df['Total_r']\n",
    "\n",
    "print(AT_df.sort_values('proportion_r', ascending=False))\n",
    "\n",
    "#bin_values = np.arange(start=0, stop=1000, step=10)\n",
    "#AT_df['Mh'].hist()\n",
    "#AT_df.plot.hist()\n"
   ]
  },
  {
   "cell_type": "code",
   "execution_count": null,
   "metadata": {},
   "outputs": [],
   "source": [
    "fig = px.line_polar(AT_df, r='r', theta='Mh', line_close=True, color=\"MS\")\n",
    "fig.update_traces(fill='toself')\n",
    "fig.show()"
   ]
  }
 ],
 "metadata": {
  "kernelspec": {
   "display_name": "Python 3",
   "language": "python",
   "name": "python3"
  },
  "language_info": {
   "codemirror_mode": {
    "name": "ipython",
    "version": 3
   },
   "file_extension": ".py",
   "mimetype": "text/x-python",
   "name": "python",
   "nbconvert_exporter": "python",
   "pygments_lexer": "ipython3",
   "version": "3.8.5"
  }
 },
 "nbformat": 4,
 "nbformat_minor": 4
}
