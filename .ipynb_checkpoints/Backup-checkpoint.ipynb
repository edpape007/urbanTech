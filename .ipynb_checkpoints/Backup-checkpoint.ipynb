{
 "cells": [
  {
   "cell_type": "code",
   "execution_count": null,
   "metadata": {},
   "outputs": [],
   "source": [
    "print('Mean Absolute Error:', metrics.mean_absolute_error(y_test, y_pred))\n",
    "print('Mean Squared Error:', metrics.mean_squared_error(y_test, y_pred))\n",
    "print('Root Mean Squared Error:', np.sqrt(metrics.mean_squared_error(y_test, y_pred)))"
   ]
  },
  {
   "cell_type": "code",
   "execution_count": null,
   "metadata": {},
   "outputs": [],
   "source": [
    "y_pred = sgdr.predict(X_test)\n",
    "\n",
    "mse = mean_squared_error(y_test, y_pred)\n",
    "print(\"MSE: \", mse)\n",
    "print(\"RMSE: \", mse*(1/2.0)) "
   ]
  },
  {
   "cell_type": "code",
   "execution_count": null,
   "metadata": {},
   "outputs": [],
   "source": [
    "score = sgdr.score(X_train, y_train)\n",
    "print(\"R-squared:\", score)\n",
    "\n",
    "cv_score = cross_val_score(sgdr, X, y, cv = 10)\n",
    "print(\"CV mean score: \", cv_score.mean())"
   ]
  },
  {
   "cell_type": "code",
   "execution_count": null,
   "metadata": {},
   "outputs": [],
   "source": [
    "I took a look at your Jupyter NB. I think what you have for the Regression is fine. \n",
    "But if you want to improve it, you can use sklearns SGDRegressor and add some regularization. \n",
    "Might improve the MSE some. Also maybe look at GridSearch CV to perform some hyperparameter optimization."
   ]
  },
  {
   "cell_type": "code",
   "execution_count": null,
   "metadata": {},
   "outputs": [],
   "source": [
    "total_df[total_df['MS'] == 'CY'].head()\n",
    "\n",
    "total_df.groupby(['MS','Mh']).sum()\n",
    "\n",
    "df.name.unique()\n",
    "\n",
    "df2=df.groupby(['col1','col2','col3'], as_index=False).agg({'col4':'mean', 'col5':','.join})\n",
    "print (df2)\n",
    "\n",
    "\n",
    "grouped_multiple = df.groupby(['Team', 'Pos']).agg({'Age': ['mean', 'min', 'max']})\n",
    "grouped_multiple.columns = ['age_mean', 'age_min', 'age_max']\n",
    "grouped_multiple = grouped_multiple.reset_index()\n",
    "print(grouped_multiple)"
   ]
  },
  {
   "cell_type": "code",
   "execution_count": null,
   "metadata": {},
   "outputs": [],
   "source": [
    "#count_r\n",
    "AT = count_r[count_r['MS'] == 'AT']\n",
    "#print(AT)\n",
    "total = AT['r'].sum()\n",
    "AT_df = AT.groupby(['MS','Mh'])['r'].sum().reset_index()\n",
    "\n",
    "AT_df['Total_r'] = total\n",
    "\n",
    "#Find the proportion of autos by brand in that specific \n",
    "AT_df['proportion_r'] = AT_df['r'] / AT_df['Total_r']\n",
    "\n",
    "print(AT_df.sort_values('proportion_r', ascending=False))\n",
    "\n",
    "#bin_values = np.arange(start=0, stop=1000, step=10)\n",
    "#AT_df['Mh'].hist()\n",
    "#AT_df.plot.hist()\n"
   ]
  },
  {
   "cell_type": "code",
   "execution_count": null,
   "metadata": {},
   "outputs": [],
   "source": [
    "fig = px.line_polar(AT_df, r='r', theta='Mh', line_close=True, color=\"MS\")\n",
    "fig.update_traces(fill='toself')\n",
    "fig.show()"
   ]
  },
  {
   "cell_type": "code",
   "execution_count": null,
   "metadata": {},
   "outputs": [],
   "source": [
    "df1 = pd.read_csv('AT.csv')\n",
    "df2 = pd.read_csv('BE.csv')\n",
    "df3 = pd.read_csv('BG.csv')\n",
    "df4 = pd.read_csv('CY.csv')\n",
    "df5 = pd.read_csv('CZ.csv', encoding='ISO-8859–1')\n",
    "df6 = pd.read_csv('DE.csv', encoding='ISO-8859–1')\n",
    "df7 = pd.read_csv('DK.csv', encoding='ISO-8859–1')\n",
    "df8 = pd.read_csv('EE.csv')\n",
    "df9 = pd.read_csv('ES.csv', encoding='ISO-8859–1')\n",
    "df10 = pd.read_csv('FI.csv')\n",
    "df11 = pd.read_csv('FR.csv', encoding='ISO-8859–1')\n",
    "df12 = pd.read_csv('GB.csv', encoding='ISO-8859–1')\n",
    "df13 = pd.read_csv('GR.csv', encoding='ISO-8859–1')\n",
    "df14 = pd.read_csv('HR.csv', encoding='ISO-8859–1')\n",
    "df15 = pd.read_csv('HU.csv', encoding='ISO-8859–1')\n",
    "df16 = pd.read_csv('IE.csv')\n",
    "df17 = pd.read_csv('IT.csv')\n",
    "df18 = pd.read_csv('LT.csv')\n",
    "df19 = pd.read_csv('LU.csv')\n",
    "df20 = pd.read_csv('LV.csv')\n",
    "df21 = pd.read_csv('MT.csv')\n",
    "df22 = pd.read_csv('NL.csv')\n",
    "df23 = pd.read_csv('PL.csv')\n",
    "df24 = pd.read_csv('PT.csv')\n",
    "df25 = pd.read_csv('RO.csv')\n",
    "df26 = pd.read_csv('SE.csv')\n",
    "df27 = pd.read_csv('SI.csv')\n",
    "df28 = pd.read_csv('SK.csv', encoding='ISO-8859–1')\n",
    "\n",
    "#Take a look to a random df.\n",
    "print(df27.head())"
   ]
  },
  {
   "cell_type": "code",
   "execution_count": null,
   "metadata": {},
   "outputs": [],
   "source": [
    "total_df = pd.concat([df1,df2,df3,df4,df8,df10,df16,df17,df18,df19,df20,df21,df22,df23,df24,df25,df26,df27], axis=0)"
   ]
  },
  {
   "cell_type": "code",
   "execution_count": null,
   "metadata": {},
   "outputs": [],
   "source": [
    "print(sdf['Ft'].unique())\n",
    "print(sdf['Mh'].unique())\n",
    "print(sdf['Fm'].unique())"
   ]
  },
  {
   "cell_type": "code",
   "execution_count": null,
   "metadata": {},
   "outputs": [],
   "source": [
    "sdf = total_df[['m (kg)','W (mm)','At1 (mm)','At2 (mm)','ec (cm3)','ep (KW)','Enedc (g/km)']]\n",
    "sdf = sdf.dropna()\n",
    "sdf.head()"
   ]
  }
 ],
 "metadata": {
  "kernelspec": {
   "display_name": "Python 3",
   "language": "python",
   "name": "python3"
  },
  "language_info": {
   "codemirror_mode": {
    "name": "ipython",
    "version": 3
   },
   "file_extension": ".py",
   "mimetype": "text/x-python",
   "name": "python",
   "nbconvert_exporter": "python",
   "pygments_lexer": "ipython3",
   "version": "3.8.5"
  }
 },
 "nbformat": 4,
 "nbformat_minor": 4
}
